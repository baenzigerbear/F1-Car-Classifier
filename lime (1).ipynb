{
 "cells": [
  {
   "cell_type": "code",
   "execution_count": null,
   "id": "56c0528f-32b4-4d16-aa42-a196301b50db",
   "metadata": {},
   "outputs": [],
   "source": [
    "#comment"
   ]
  },
  {
   "cell_type": "code",
   "execution_count": 2,
   "id": "07aa0e1d-60bd-4c7f-8f53-193a6bd24723",
   "metadata": {},
   "outputs": [
    {
     "name": "stdout",
     "output_type": "stream",
     "text": [
      "Collecting scikit-learn==0.24.1\n",
      "  Using cached scikit_learn-0.24.1-cp39-cp39-macosx_10_13_x86_64.whl (7.3 MB)\n",
      "Collecting aif360==0.3.0\n",
      "  Using cached aif360-0.3.0-py3-none-any.whl (165 kB)\n",
      "Collecting nodejs==0.1.1\n",
      "  Downloading nodejs-0.1.1.tar.gz (2.3 kB)\n",
      "Collecting ipywidgets==7.6.3\n",
      "  Downloading ipywidgets-7.6.3-py2.py3-none-any.whl (121 kB)\n",
      "\u001b[K     |████████████████████████████████| 121 kB 633 kB/s eta 0:00:01\n",
      "\u001b[?25hCollecting lime==0.2.0.1\n",
      "  Downloading lime-0.2.0.1.tar.gz (275 kB)\n",
      "\u001b[K     |████████████████████████████████| 275 kB 13.1 MB/s eta 0:00:01\n",
      "\u001b[?25hCollecting wget==3.2\n",
      "  Downloading wget-3.2.zip (10 kB)\n",
      "Requirement already satisfied: threadpoolctl>=2.0.0 in /Users/janickbrunner/opt/anaconda3/lib/python3.9/site-packages (from scikit-learn==0.24.1) (2.2.0)\n",
      "Requirement already satisfied: scipy>=0.19.1 in /Users/janickbrunner/opt/anaconda3/lib/python3.9/site-packages (from scikit-learn==0.24.1) (1.7.1)\n",
      "Requirement already satisfied: joblib>=0.11 in /Users/janickbrunner/opt/anaconda3/lib/python3.9/site-packages (from scikit-learn==0.24.1) (1.1.0)\n",
      "Requirement already satisfied: numpy>=1.13.3 in /Users/janickbrunner/opt/anaconda3/lib/python3.9/site-packages (from scikit-learn==0.24.1) (1.20.3)\n",
      "Requirement already satisfied: pandas>=0.24.0 in /Users/janickbrunner/opt/anaconda3/lib/python3.9/site-packages (from aif360==0.3.0) (1.3.4)\n",
      "Requirement already satisfied: matplotlib in /Users/janickbrunner/opt/anaconda3/lib/python3.9/site-packages (from aif360==0.3.0) (3.4.3)\n",
      "Collecting optional-django==0.1.0\n",
      "  Downloading optional-django-0.1.0.tar.gz (9.5 kB)\n",
      "Requirement already satisfied: ipython>=4.0.0 in /Users/janickbrunner/opt/anaconda3/lib/python3.9/site-packages (from ipywidgets==7.6.3) (7.29.0)\n",
      "Requirement already satisfied: ipykernel>=4.5.1 in /Users/janickbrunner/opt/anaconda3/lib/python3.9/site-packages (from ipywidgets==7.6.3) (6.4.1)\n",
      "Requirement already satisfied: traitlets>=4.3.1 in /Users/janickbrunner/opt/anaconda3/lib/python3.9/site-packages (from ipywidgets==7.6.3) (5.1.0)\n",
      "Requirement already satisfied: widgetsnbextension~=3.5.0 in /Users/janickbrunner/opt/anaconda3/lib/python3.9/site-packages (from ipywidgets==7.6.3) (3.5.1)\n",
      "Requirement already satisfied: jupyterlab-widgets>=1.0.0 in /Users/janickbrunner/opt/anaconda3/lib/python3.9/site-packages (from ipywidgets==7.6.3) (1.0.0)\n",
      "Requirement already satisfied: nbformat>=4.2.0 in /Users/janickbrunner/opt/anaconda3/lib/python3.9/site-packages (from ipywidgets==7.6.3) (5.1.3)\n",
      "Requirement already satisfied: tqdm in /Users/janickbrunner/opt/anaconda3/lib/python3.9/site-packages (from lime==0.2.0.1) (4.62.3)\n",
      "Requirement already satisfied: scikit-image>=0.12 in /Users/janickbrunner/opt/anaconda3/lib/python3.9/site-packages (from lime==0.2.0.1) (0.18.3)\n",
      "Requirement already satisfied: appnope in /Users/janickbrunner/opt/anaconda3/lib/python3.9/site-packages (from ipykernel>=4.5.1->ipywidgets==7.6.3) (0.1.2)\n",
      "Requirement already satisfied: debugpy<2.0,>=1.0.0 in /Users/janickbrunner/opt/anaconda3/lib/python3.9/site-packages (from ipykernel>=4.5.1->ipywidgets==7.6.3) (1.4.1)\n",
      "Requirement already satisfied: matplotlib-inline<0.2.0,>=0.1.0 in /Users/janickbrunner/opt/anaconda3/lib/python3.9/site-packages (from ipykernel>=4.5.1->ipywidgets==7.6.3) (0.1.2)\n",
      "Requirement already satisfied: ipython-genutils in /Users/janickbrunner/opt/anaconda3/lib/python3.9/site-packages (from ipykernel>=4.5.1->ipywidgets==7.6.3) (0.2.0)\n",
      "Requirement already satisfied: jupyter-client<8.0 in /Users/janickbrunner/opt/anaconda3/lib/python3.9/site-packages (from ipykernel>=4.5.1->ipywidgets==7.6.3) (6.1.12)\n",
      "Requirement already satisfied: tornado<7.0,>=4.2 in /Users/janickbrunner/opt/anaconda3/lib/python3.9/site-packages (from ipykernel>=4.5.1->ipywidgets==7.6.3) (6.1)\n",
      "Requirement already satisfied: jedi>=0.16 in /Users/janickbrunner/opt/anaconda3/lib/python3.9/site-packages (from ipython>=4.0.0->ipywidgets==7.6.3) (0.18.0)\n",
      "Requirement already satisfied: prompt-toolkit!=3.0.0,!=3.0.1,<3.1.0,>=2.0.0 in /Users/janickbrunner/opt/anaconda3/lib/python3.9/site-packages (from ipython>=4.0.0->ipywidgets==7.6.3) (3.0.20)\n",
      "Requirement already satisfied: pygments in /Users/janickbrunner/opt/anaconda3/lib/python3.9/site-packages (from ipython>=4.0.0->ipywidgets==7.6.3) (2.10.0)\n",
      "Requirement already satisfied: backcall in /Users/janickbrunner/opt/anaconda3/lib/python3.9/site-packages (from ipython>=4.0.0->ipywidgets==7.6.3) (0.2.0)\n",
      "Requirement already satisfied: pexpect>4.3 in /Users/janickbrunner/opt/anaconda3/lib/python3.9/site-packages (from ipython>=4.0.0->ipywidgets==7.6.3) (4.8.0)\n",
      "Requirement already satisfied: pickleshare in /Users/janickbrunner/opt/anaconda3/lib/python3.9/site-packages (from ipython>=4.0.0->ipywidgets==7.6.3) (0.7.5)\n",
      "Requirement already satisfied: decorator in /Users/janickbrunner/opt/anaconda3/lib/python3.9/site-packages (from ipython>=4.0.0->ipywidgets==7.6.3) (5.1.0)\n",
      "Requirement already satisfied: setuptools>=18.5 in /Users/janickbrunner/opt/anaconda3/lib/python3.9/site-packages (from ipython>=4.0.0->ipywidgets==7.6.3) (58.0.4)\n",
      "Requirement already satisfied: parso<0.9.0,>=0.8.0 in /Users/janickbrunner/opt/anaconda3/lib/python3.9/site-packages (from jedi>=0.16->ipython>=4.0.0->ipywidgets==7.6.3) (0.8.2)\n",
      "Requirement already satisfied: python-dateutil>=2.1 in /Users/janickbrunner/opt/anaconda3/lib/python3.9/site-packages (from jupyter-client<8.0->ipykernel>=4.5.1->ipywidgets==7.6.3) (2.8.2)\n",
      "Requirement already satisfied: jupyter-core>=4.6.0 in /Users/janickbrunner/opt/anaconda3/lib/python3.9/site-packages (from jupyter-client<8.0->ipykernel>=4.5.1->ipywidgets==7.6.3) (4.8.1)\n",
      "Requirement already satisfied: pyzmq>=13 in /Users/janickbrunner/opt/anaconda3/lib/python3.9/site-packages (from jupyter-client<8.0->ipykernel>=4.5.1->ipywidgets==7.6.3) (22.2.1)\n",
      "Requirement already satisfied: jsonschema!=2.5.0,>=2.4 in /Users/janickbrunner/opt/anaconda3/lib/python3.9/site-packages (from nbformat>=4.2.0->ipywidgets==7.6.3) (3.2.0)\n",
      "Requirement already satisfied: attrs>=17.4.0 in /Users/janickbrunner/opt/anaconda3/lib/python3.9/site-packages (from jsonschema!=2.5.0,>=2.4->nbformat>=4.2.0->ipywidgets==7.6.3) (21.2.0)\n",
      "Requirement already satisfied: six>=1.11.0 in /Users/janickbrunner/opt/anaconda3/lib/python3.9/site-packages (from jsonschema!=2.5.0,>=2.4->nbformat>=4.2.0->ipywidgets==7.6.3) (1.16.0)\n",
      "Requirement already satisfied: pyrsistent>=0.14.0 in /Users/janickbrunner/opt/anaconda3/lib/python3.9/site-packages (from jsonschema!=2.5.0,>=2.4->nbformat>=4.2.0->ipywidgets==7.6.3) (0.18.0)\n",
      "Requirement already satisfied: pytz>=2017.3 in /Users/janickbrunner/opt/anaconda3/lib/python3.9/site-packages (from pandas>=0.24.0->aif360==0.3.0) (2021.3)\n",
      "Requirement already satisfied: ptyprocess>=0.5 in /Users/janickbrunner/opt/anaconda3/lib/python3.9/site-packages (from pexpect>4.3->ipython>=4.0.0->ipywidgets==7.6.3) (0.7.0)\n",
      "Requirement already satisfied: wcwidth in /Users/janickbrunner/opt/anaconda3/lib/python3.9/site-packages (from prompt-toolkit!=3.0.0,!=3.0.1,<3.1.0,>=2.0.0->ipython>=4.0.0->ipywidgets==7.6.3) (0.2.5)\n",
      "Requirement already satisfied: networkx>=2.0 in /Users/janickbrunner/opt/anaconda3/lib/python3.9/site-packages (from scikit-image>=0.12->lime==0.2.0.1) (2.6.3)\n",
      "Requirement already satisfied: pillow!=7.1.0,!=7.1.1,>=4.3.0 in /Users/janickbrunner/opt/anaconda3/lib/python3.9/site-packages (from scikit-image>=0.12->lime==0.2.0.1) (8.4.0)\n",
      "Requirement already satisfied: imageio>=2.3.0 in /Users/janickbrunner/opt/anaconda3/lib/python3.9/site-packages (from scikit-image>=0.12->lime==0.2.0.1) (2.9.0)\n",
      "Requirement already satisfied: tifffile>=2019.7.26 in /Users/janickbrunner/opt/anaconda3/lib/python3.9/site-packages (from scikit-image>=0.12->lime==0.2.0.1) (2021.7.2)\n",
      "Requirement already satisfied: PyWavelets>=1.1.1 in /Users/janickbrunner/opt/anaconda3/lib/python3.9/site-packages (from scikit-image>=0.12->lime==0.2.0.1) (1.1.1)\n",
      "Requirement already satisfied: cycler>=0.10 in /Users/janickbrunner/opt/anaconda3/lib/python3.9/site-packages (from matplotlib->aif360==0.3.0) (0.10.0)\n",
      "Requirement already satisfied: pyparsing>=2.2.1 in /Users/janickbrunner/opt/anaconda3/lib/python3.9/site-packages (from matplotlib->aif360==0.3.0) (3.0.4)\n",
      "Requirement already satisfied: kiwisolver>=1.0.1 in /Users/janickbrunner/opt/anaconda3/lib/python3.9/site-packages (from matplotlib->aif360==0.3.0) (1.3.1)\n",
      "Requirement already satisfied: notebook>=4.4.1 in /Users/janickbrunner/opt/anaconda3/lib/python3.9/site-packages (from widgetsnbextension~=3.5.0->ipywidgets==7.6.3) (6.4.5)\n",
      "Requirement already satisfied: Send2Trash>=1.5.0 in /Users/janickbrunner/opt/anaconda3/lib/python3.9/site-packages (from notebook>=4.4.1->widgetsnbextension~=3.5.0->ipywidgets==7.6.3) (1.8.0)\n",
      "Requirement already satisfied: terminado>=0.8.3 in /Users/janickbrunner/opt/anaconda3/lib/python3.9/site-packages (from notebook>=4.4.1->widgetsnbextension~=3.5.0->ipywidgets==7.6.3) (0.9.4)\n",
      "Requirement already satisfied: argon2-cffi in /Users/janickbrunner/opt/anaconda3/lib/python3.9/site-packages (from notebook>=4.4.1->widgetsnbextension~=3.5.0->ipywidgets==7.6.3) (20.1.0)\n",
      "Requirement already satisfied: prometheus-client in /Users/janickbrunner/opt/anaconda3/lib/python3.9/site-packages (from notebook>=4.4.1->widgetsnbextension~=3.5.0->ipywidgets==7.6.3) (0.11.0)\n",
      "Requirement already satisfied: nbconvert in /Users/janickbrunner/opt/anaconda3/lib/python3.9/site-packages (from notebook>=4.4.1->widgetsnbextension~=3.5.0->ipywidgets==7.6.3) (6.1.0)\n",
      "Requirement already satisfied: jinja2 in /Users/janickbrunner/opt/anaconda3/lib/python3.9/site-packages (from notebook>=4.4.1->widgetsnbextension~=3.5.0->ipywidgets==7.6.3) (2.11.3)\n",
      "Requirement already satisfied: cffi>=1.0.0 in /Users/janickbrunner/opt/anaconda3/lib/python3.9/site-packages (from argon2-cffi->notebook>=4.4.1->widgetsnbextension~=3.5.0->ipywidgets==7.6.3) (1.14.6)\n",
      "Requirement already satisfied: pycparser in /Users/janickbrunner/opt/anaconda3/lib/python3.9/site-packages (from cffi>=1.0.0->argon2-cffi->notebook>=4.4.1->widgetsnbextension~=3.5.0->ipywidgets==7.6.3) (2.20)\n",
      "Requirement already satisfied: MarkupSafe>=0.23 in /Users/janickbrunner/opt/anaconda3/lib/python3.9/site-packages (from jinja2->notebook>=4.4.1->widgetsnbextension~=3.5.0->ipywidgets==7.6.3) (1.1.1)\n",
      "Requirement already satisfied: pandocfilters>=1.4.1 in /Users/janickbrunner/opt/anaconda3/lib/python3.9/site-packages (from nbconvert->notebook>=4.4.1->widgetsnbextension~=3.5.0->ipywidgets==7.6.3) (1.4.3)\n",
      "Requirement already satisfied: defusedxml in /Users/janickbrunner/opt/anaconda3/lib/python3.9/site-packages (from nbconvert->notebook>=4.4.1->widgetsnbextension~=3.5.0->ipywidgets==7.6.3) (0.7.1)\n",
      "Requirement already satisfied: jupyterlab-pygments in /Users/janickbrunner/opt/anaconda3/lib/python3.9/site-packages (from nbconvert->notebook>=4.4.1->widgetsnbextension~=3.5.0->ipywidgets==7.6.3) (0.1.2)\n",
      "Requirement already satisfied: entrypoints>=0.2.2 in /Users/janickbrunner/opt/anaconda3/lib/python3.9/site-packages (from nbconvert->notebook>=4.4.1->widgetsnbextension~=3.5.0->ipywidgets==7.6.3) (0.3)\n",
      "Requirement already satisfied: testpath in /Users/janickbrunner/opt/anaconda3/lib/python3.9/site-packages (from nbconvert->notebook>=4.4.1->widgetsnbextension~=3.5.0->ipywidgets==7.6.3) (0.5.0)\n",
      "Requirement already satisfied: bleach in /Users/janickbrunner/opt/anaconda3/lib/python3.9/site-packages (from nbconvert->notebook>=4.4.1->widgetsnbextension~=3.5.0->ipywidgets==7.6.3) (4.0.0)\n",
      "Requirement already satisfied: mistune<2,>=0.8.1 in /Users/janickbrunner/opt/anaconda3/lib/python3.9/site-packages (from nbconvert->notebook>=4.4.1->widgetsnbextension~=3.5.0->ipywidgets==7.6.3) (0.8.4)\n",
      "Requirement already satisfied: nbclient<0.6.0,>=0.5.0 in /Users/janickbrunner/opt/anaconda3/lib/python3.9/site-packages (from nbconvert->notebook>=4.4.1->widgetsnbextension~=3.5.0->ipywidgets==7.6.3) (0.5.3)\n",
      "Requirement already satisfied: nest-asyncio in /Users/janickbrunner/opt/anaconda3/lib/python3.9/site-packages (from nbclient<0.6.0,>=0.5.0->nbconvert->notebook>=4.4.1->widgetsnbextension~=3.5.0->ipywidgets==7.6.3) (1.5.1)\n",
      "Requirement already satisfied: async-generator in /Users/janickbrunner/opt/anaconda3/lib/python3.9/site-packages (from nbclient<0.6.0,>=0.5.0->nbconvert->notebook>=4.4.1->widgetsnbextension~=3.5.0->ipywidgets==7.6.3) (1.10)\n",
      "Requirement already satisfied: webencodings in /Users/janickbrunner/opt/anaconda3/lib/python3.9/site-packages (from bleach->nbconvert->notebook>=4.4.1->widgetsnbextension~=3.5.0->ipywidgets==7.6.3) (0.5.1)\n",
      "Requirement already satisfied: packaging in /Users/janickbrunner/opt/anaconda3/lib/python3.9/site-packages (from bleach->nbconvert->notebook>=4.4.1->widgetsnbextension~=3.5.0->ipywidgets==7.6.3) (21.0)\n",
      "Building wheels for collected packages: nodejs, lime, wget, optional-django\n",
      "  Building wheel for nodejs (setup.py) ... \u001b[?25ldone\n",
      "\u001b[?25h  Created wheel for nodejs: filename=nodejs-0.1.1-py3-none-any.whl size=3492 sha256=1d93695fc43e2d1703b1b7290de9fab0790bc721fe5aeb4dc3e2dbd5a764d9af\n",
      "  Stored in directory: /Users/janickbrunner/Library/Caches/pip/wheels/33/6c/3e/c7c4e543b09f8fc396bb9d2bb0ee2c73d248c49201593c901e\n",
      "  Building wheel for lime (setup.py) ... \u001b[?25ldone\n",
      "\u001b[?25h  Created wheel for lime: filename=lime-0.2.0.1-py3-none-any.whl size=283857 sha256=813cd4e5a8ddb06644a8a5823d1727607072b6170c1f4341e39de912fdba532c\n",
      "  Stored in directory: /Users/janickbrunner/Library/Caches/pip/wheels/ed/d7/c9/5a0130d06d6310bc6cbe55220e6e72dcb8c4eff9a478717066\n",
      "  Building wheel for wget (setup.py) ... \u001b[?25ldone\n",
      "\u001b[?25h  Created wheel for wget: filename=wget-3.2-py3-none-any.whl size=9672 sha256=a949589a7f38123e72ad876077a30cdde74342bd13295dafac359d55b56a487b\n",
      "  Stored in directory: /Users/janickbrunner/Library/Caches/pip/wheels/04/5f/3e/46cc37c5d698415694d83f607f833f83f0149e49b3af9d0f38\n",
      "  Building wheel for optional-django (setup.py) ... \u001b[?25ldone\n",
      "\u001b[?25h  Created wheel for optional-django: filename=optional_django-0.1.0-py3-none-any.whl size=9978 sha256=409f7abdf53cb63627724fd33b54532ce40dd26bf6bc6e3a06466942d7dfea15\n",
      "  Stored in directory: /Users/janickbrunner/Library/Caches/pip/wheels/02/8b/80/98951377d9c707978a3798a23f2b260e00bcfc724073556cf4\n",
      "Successfully built nodejs lime wget optional-django\n",
      "Installing collected packages: scikit-learn, optional-django, wget, nodejs, lime, ipywidgets, aif360\n",
      "  Attempting uninstall: scikit-learn\n",
      "    Found existing installation: scikit-learn 0.24.2\n",
      "    Uninstalling scikit-learn-0.24.2:\n",
      "      Successfully uninstalled scikit-learn-0.24.2\n",
      "  Attempting uninstall: ipywidgets\n",
      "    Found existing installation: ipywidgets 7.6.5\n",
      "    Uninstalling ipywidgets-7.6.5:\n",
      "      Successfully uninstalled ipywidgets-7.6.5\n",
      "Successfully installed aif360-0.3.0 ipywidgets-7.6.3 lime-0.2.0.1 nodejs-0.1.1 optional-django-0.1.0 scikit-learn-0.24.1 wget-3.2\n"
     ]
    }
   ],
   "source": [
    "!pip3 install scikit-learn==0.24.1 aif360==0.3.0  nodejs==0.1.1 ipywidgets==7.6.3 lime==0.2.0.1 wget==3.2 #aix360==0.2.1 \n"
   ]
  },
  {
   "cell_type": "code",
   "execution_count": 1,
   "id": "418d44f2-c735-412f-bc57-1d06124090a1",
   "metadata": {},
   "outputs": [
    {
     "data": {
      "text/plain": [
       "'claimed_utils (1).py'"
      ]
     },
     "execution_count": 1,
     "metadata": {},
     "output_type": "execute_result"
    }
   ],
   "source": [
    "import wget\n",
    "wget.download(\n",
    "    'https://raw.githubusercontent.com/'\n",
    "    'elyra-ai/component-library/master/claimed_utils.py'\n",
    ")"
   ]
  },
  {
   "cell_type": "code",
   "execution_count": 2,
   "id": "32abf71a-e070-41f3-8307-f1387b38fb2f",
   "metadata": {},
   "outputs": [],
   "source": [
    "import os\n",
    "import tensorflow as tf\n",
    "from tensorflow import keras\n",
    "from claimed_utils import unzip\n",
    "import os.path\n",
    "import glob\n",
    "from lime import lime_image\n",
    "from lime.wrappers.scikit_image import SegmentationAlgorithm\n",
    "import matplotlib.pyplot as plt\n",
    "from mpl_toolkits.axes_grid1 import ImageGrid\n",
    "import numpy as np"
   ]
  },
  {
   "cell_type": "code",
   "execution_count": 5,
   "id": "ea22344f-3a8d-45f4-a828-5868cd38429b",
   "metadata": {},
   "outputs": [],
   "source": [
    "# @dependency codait_utils.ipynb\n",
    "# @dependency model.zip\n",
    "# @dependency data.zip\n",
    "# @param model zip file name\n",
    "# @param data zip file name\n",
    "# @returns random heatmap image\n",
    "# objects inline in jupyter (currently 4,TODO make specifiable)\n",
    "# (next version will return a zip folder with images+heatmaps)"
   ]
  },
  {
   "cell_type": "code",
   "execution_count": 11,
   "id": "8292001d-409a-4aa6-8354-c3797faae50e",
   "metadata": {},
   "outputs": [],
   "source": [
    "# !jupyter labextension install @jupyter-widgets/jupyterlab-manager\n"
   ]
  },
  {
   "cell_type": "code",
   "execution_count": 7,
   "id": "3da1e6c6-bd04-4daa-9d01-8c5cdc899103",
   "metadata": {},
   "outputs": [
    {
     "name": "stdout",
     "output_type": "stream",
     "text": [
      "WARNING:tensorflow:Mixed precision compatibility check (mixed_float16): WARNING\n",
      "The dtype policy mixed_float16 may run slowly because this machine does not have a GPU. Only Nvidia GPUs with compute capability of at least 7.0 run quickly with mixed_float16.\n",
      "If you will use compatible GPU(s) not attached to this host, e.g. by running a multi-worker model, you can ignore this warning. This message will only be logged once\n"
     ]
    },
    {
     "name": "stderr",
     "output_type": "stream",
     "text": [
      "2022-10-02 21:22:35.809245: I tensorflow/core/platform/cpu_feature_guard.cc:193] This TensorFlow binary is optimized with oneAPI Deep Neural Network Library (oneDNN) to use the following CPU instructions in performance-critical operations:  AVX2 FMA\n",
      "To enable them in other operations, rebuild TensorFlow with the appropriate compiler flags.\n"
     ]
    }
   ],
   "source": [
    "model = keras.models.load_model('my_model.h5')"
   ]
  },
  {
   "cell_type": "code",
   "execution_count": 33,
   "id": "6d6d2e20-904e-41eb-b937-c779ffefd98c",
   "metadata": {},
   "outputs": [
    {
     "name": "stdout",
     "output_type": "stream",
     "text": [
      "Found 2421 files belonging to 2 classes.\n",
      "Using 1937 files for training.\n",
      "Found 2421 files belonging to 2 classes.\n",
      "Using 484 files for validation.\n"
     ]
    }
   ],
   "source": [
    "folder = glob.glob(\"02_train_test_split/*\")\n",
    "num_classes = len(folder)\n",
    "\n",
    "batch_size = 32\n",
    "img_height = 244\n",
    "img_width = 244\n",
    "input_shape = (img_width, img_height)\n",
    "\n",
    "\n",
    "train_ds = tf.keras.preprocessing.image_dataset_from_directory(\n",
    "    '02_train_test_split',\n",
    "    validation_split=0.2,\n",
    "    subset=\"training\",\n",
    "    seed=123,\n",
    "    image_size=(img_height, img_width),\n",
    "    batch_size=batch_size)\n",
    "\n",
    "val_ds = tf.keras.preprocessing.image_dataset_from_directory(\n",
    "    '02_train_test_split',\n",
    "    validation_split=0.2,\n",
    "    subset=\"validation\",\n",
    "    seed=123,\n",
    "    image_size=(img_height, img_width),\n",
    "    batch_size=batch_size)\n",
    "\n",
    "train_ds = train_ds.map(lambda x, y: (x, tf.one_hot(y, depth=num_classes)))\n",
    "val_ds = val_ds.map(lambda x, y: (x, tf.one_hot(y, depth=num_classes)))"
   ]
  },
  {
   "cell_type": "code",
   "execution_count": 34,
   "id": "a0436117-2387-4414-b91e-750309083359",
   "metadata": {},
   "outputs": [],
   "source": [
    "explainer = lime_image.LimeImageExplainer()\n"
   ]
  },
  {
   "cell_type": "code",
   "execution_count": 35,
   "id": "415162d3-6b71-4904-9030-762fe77286b7",
   "metadata": {},
   "outputs": [],
   "source": [
    "val_ds_shuffeled = val_ds.shuffle(1)\n",
    "for image, label in val_ds:\n",
    "    break\n",
    "label = label[0]\n",
    "label = tf.reshape(label, [1, len(label)])\n",
    "tf.math.argmax(label, 1)\n",
    "label = tf.math.argmax(label, 1).numpy()[0]  # de-onehotencode"
   ]
  },
  {
   "cell_type": "code",
   "execution_count": 36,
   "id": "91548ba9-3408-4a61-b5e6-9d6461398daf",
   "metadata": {},
   "outputs": [],
   "source": [
    "def get_random_image():\n",
    "    for image, label in val_ds:\n",
    "        break\n",
    "    image = image.numpy().astype(int)\n",
    "    image = image[0]\n",
    "    label = label[0]\n",
    "    label = tf.reshape(label, [1, len(label)])\n",
    "    image = image.reshape(img_height, img_width, 3)\n",
    "    image_for_model = image.reshape(1, img_height, img_width, 3)\n",
    "    label = tf.math.argmax(label, 1).numpy()[0]  # de-onehotencode\n",
    "    prediction = model.predict(image_for_model)\n",
    "    prediction = tf.math.argmax(prediction, 1).numpy()[0]  # de-onehotencode\n",
    "    return image, label, prediction"
   ]
  },
  {
   "cell_type": "code",
   "execution_count": 37,
   "id": "fc749e77-f50f-4a0e-9bf8-314ab570c7cb",
   "metadata": {},
   "outputs": [],
   "source": [
    "def get_explaination_as_mask(image, label):\n",
    "    segmentation_fn = SegmentationAlgorithm(algo_type='slic')\n",
    "    explanation = explainer.explain_instance(\n",
    "        image,\n",
    "        model.predict,\n",
    "        segmentation_fn=segmentation_fn\n",
    "    )\n",
    "    print(label)\n",
    "    return explanation.get_image_and_mask(label)[1]"
   ]
  },
  {
   "cell_type": "code",
   "execution_count": 38,
   "id": "b3396f65-b891-4222-b8a5-4f6c469934ec",
   "metadata": {},
   "outputs": [],
   "source": [
    "def merge_image_with_mask(image, mask):\n",
    "    np_mask = np.array(mask.astype(int) * 255, np.uint8)\n",
    "    np_merged = np.empty(image.shape, np.uint8)\n",
    "    np_merged[:, :, 0] = np.maximum(image[:, :, 0], np_mask)\n",
    "    np_merged[:, :, 1] = np.maximum(image[:, :, 1], np_mask)\n",
    "    np_merged[:, :, 2] = np.maximum(image[:, :, 2], np_mask)\n",
    "    return np_merged"
   ]
  },
  {
   "cell_type": "code",
   "execution_count": 39,
   "id": "50b535d6-e6f6-499d-9abe-af69e1c327e5",
   "metadata": {},
   "outputs": [
    {
     "data": {
      "image/png": "[encoded data removed]",
      "text/plain": [
       "<Figure size 864x864 with 8 Axes>"
      ]
     },
     "metadata": {
      "needs_background": "light"
     },
     "output_type": "display_data"
    }
   ],
   "source": [
    "fig = plt.figure(figsize=(12., 12.))\n",
    "grid = ImageGrid(fig, 111,  # similar to subplot(111)\n",
    "                 nrows_ncols=(2, 2),\n",
    "                 axes_pad=0.1,  # pad between axes in inch.\n",
    "                 )"
   ]
  },
  {
   "cell_type": "code",
   "execution_count": 40,
   "id": "e7e650f6-0232-405c-99b9-ccf2da1c1ac9",
   "metadata": {},
   "outputs": [
    {
     "ename": "ValueError",
     "evalue": "in user code:\n\n    File \"/Users/janickbrunner/opt/anaconda3/lib/python3.9/site-packages/keras/engine/training.py\", line 1845, in predict_function  *\n        return step_function(self, iterator)\n    File \"/Users/janickbrunner/opt/anaconda3/lib/python3.9/site-packages/keras/engine/training.py\", line 1834, in step_function  **\n        outputs = model.distribute_strategy.run(run_step, args=(data,))\n    File \"/Users/janickbrunner/opt/anaconda3/lib/python3.9/site-packages/keras/engine/training.py\", line 1823, in run_step  **\n        outputs = model.predict_step(data)\n    File \"/Users/janickbrunner/opt/anaconda3/lib/python3.9/site-packages/keras/engine/training.py\", line 1791, in predict_step\n        return self(x, training=False)\n    File \"/Users/janickbrunner/opt/anaconda3/lib/python3.9/site-packages/keras/utils/traceback_utils.py\", line 67, in error_handler\n        raise e.with_traceback(filtered_tb) from None\n    File \"/Users/janickbrunner/opt/anaconda3/lib/python3.9/site-packages/keras/engine/input_spec.py\", line 264, in assert_input_compatibility\n        raise ValueError(f'Input {input_index} of layer \"{layer_name}\" is '\n\n    ValueError: Input 0 of layer \"model\" is incompatible with the layer: expected shape=(None, 224, 224, 3), found shape=(None, 244, 244, 3)\n",
     "output_type": "error",
     "traceback": [
      "\u001b[0;31m---------------------------------------------------------------------------\u001b[0m",
      "\u001b[0;31mValueError\u001b[0m                                Traceback (most recent call last)",
      "\u001b[0;32m/var/folders/mr/c1ltqj7n7tzgdfhwwx5vtrq80000gn/T/ipykernel_3498/2931306816.py\u001b[0m in \u001b[0;36m<module>\u001b[0;34m\u001b[0m\n\u001b[1;32m      1\u001b[0m \u001b[0;32mfor\u001b[0m \u001b[0max\u001b[0m \u001b[0;32min\u001b[0m \u001b[0mgrid\u001b[0m\u001b[0;34m:\u001b[0m\u001b[0;34m\u001b[0m\u001b[0;34m\u001b[0m\u001b[0m\n\u001b[1;32m      2\u001b[0m     \u001b[0;32mtry\u001b[0m\u001b[0;34m:\u001b[0m\u001b[0;34m\u001b[0m\u001b[0;34m\u001b[0m\u001b[0m\n\u001b[0;32m----> 3\u001b[0;31m         \u001b[0mimage\u001b[0m\u001b[0;34m,\u001b[0m \u001b[0mlabel\u001b[0m\u001b[0;34m,\u001b[0m \u001b[0mprediction\u001b[0m \u001b[0;34m=\u001b[0m \u001b[0mget_random_image\u001b[0m\u001b[0;34m(\u001b[0m\u001b[0;34m)\u001b[0m\u001b[0;34m\u001b[0m\u001b[0;34m\u001b[0m\u001b[0m\n\u001b[0m\u001b[1;32m      4\u001b[0m         \u001b[0mmask\u001b[0m \u001b[0;34m=\u001b[0m \u001b[0mget_explaination_as_mask\u001b[0m\u001b[0;34m(\u001b[0m\u001b[0mimage\u001b[0m\u001b[0;34m,\u001b[0m \u001b[0mlabel\u001b[0m\u001b[0;34m)\u001b[0m\u001b[0;34m\u001b[0m\u001b[0;34m\u001b[0m\u001b[0m\n\u001b[1;32m      5\u001b[0m         \u001b[0mmasked_image\u001b[0m \u001b[0;34m=\u001b[0m \u001b[0mmerge_image_with_mask\u001b[0m\u001b[0;34m(\u001b[0m\u001b[0mimage\u001b[0m\u001b[0;34m,\u001b[0m \u001b[0mmask\u001b[0m\u001b[0;34m)\u001b[0m\u001b[0;34m\u001b[0m\u001b[0;34m\u001b[0m\u001b[0m\n",
      "\u001b[0;32m/var/folders/mr/c1ltqj7n7tzgdfhwwx5vtrq80000gn/T/ipykernel_3498/1990013298.py\u001b[0m in \u001b[0;36mget_random_image\u001b[0;34m()\u001b[0m\n\u001b[1;32m      9\u001b[0m     \u001b[0mimage_for_model\u001b[0m \u001b[0;34m=\u001b[0m \u001b[0mimage\u001b[0m\u001b[0;34m.\u001b[0m\u001b[0mreshape\u001b[0m\u001b[0;34m(\u001b[0m\u001b[0;36m1\u001b[0m\u001b[0;34m,\u001b[0m \u001b[0mimg_height\u001b[0m\u001b[0;34m,\u001b[0m \u001b[0mimg_width\u001b[0m\u001b[0;34m,\u001b[0m \u001b[0;36m3\u001b[0m\u001b[0;34m)\u001b[0m\u001b[0;34m\u001b[0m\u001b[0;34m\u001b[0m\u001b[0m\n\u001b[1;32m     10\u001b[0m     \u001b[0mlabel\u001b[0m \u001b[0;34m=\u001b[0m \u001b[0mtf\u001b[0m\u001b[0;34m.\u001b[0m\u001b[0mmath\u001b[0m\u001b[0;34m.\u001b[0m\u001b[0margmax\u001b[0m\u001b[0;34m(\u001b[0m\u001b[0mlabel\u001b[0m\u001b[0;34m,\u001b[0m \u001b[0;36m1\u001b[0m\u001b[0;34m)\u001b[0m\u001b[0;34m.\u001b[0m\u001b[0mnumpy\u001b[0m\u001b[0;34m(\u001b[0m\u001b[0;34m)\u001b[0m\u001b[0;34m[\u001b[0m\u001b[0;36m0\u001b[0m\u001b[0;34m]\u001b[0m  \u001b[0;31m# de-onehotencode\u001b[0m\u001b[0;34m\u001b[0m\u001b[0;34m\u001b[0m\u001b[0m\n\u001b[0;32m---> 11\u001b[0;31m     \u001b[0mprediction\u001b[0m \u001b[0;34m=\u001b[0m \u001b[0mmodel\u001b[0m\u001b[0;34m.\u001b[0m\u001b[0mpredict\u001b[0m\u001b[0;34m(\u001b[0m\u001b[0mimage_for_model\u001b[0m\u001b[0;34m)\u001b[0m\u001b[0;34m\u001b[0m\u001b[0;34m\u001b[0m\u001b[0m\n\u001b[0m\u001b[1;32m     12\u001b[0m     \u001b[0mprediction\u001b[0m \u001b[0;34m=\u001b[0m \u001b[0mtf\u001b[0m\u001b[0;34m.\u001b[0m\u001b[0mmath\u001b[0m\u001b[0;34m.\u001b[0m\u001b[0margmax\u001b[0m\u001b[0;34m(\u001b[0m\u001b[0mprediction\u001b[0m\u001b[0;34m,\u001b[0m \u001b[0;36m1\u001b[0m\u001b[0;34m)\u001b[0m\u001b[0;34m.\u001b[0m\u001b[0mnumpy\u001b[0m\u001b[0;34m(\u001b[0m\u001b[0;34m)\u001b[0m\u001b[0;34m[\u001b[0m\u001b[0;36m0\u001b[0m\u001b[0;34m]\u001b[0m  \u001b[0;31m# de-onehotencode\u001b[0m\u001b[0;34m\u001b[0m\u001b[0;34m\u001b[0m\u001b[0m\n\u001b[1;32m     13\u001b[0m     \u001b[0;32mreturn\u001b[0m \u001b[0mimage\u001b[0m\u001b[0;34m,\u001b[0m \u001b[0mlabel\u001b[0m\u001b[0;34m,\u001b[0m \u001b[0mprediction\u001b[0m\u001b[0;34m\u001b[0m\u001b[0;34m\u001b[0m\u001b[0m\n",
      "\u001b[0;32m~/opt/anaconda3/lib/python3.9/site-packages/keras/utils/traceback_utils.py\u001b[0m in \u001b[0;36merror_handler\u001b[0;34m(*args, **kwargs)\u001b[0m\n\u001b[1;32m     65\u001b[0m     \u001b[0;32mexcept\u001b[0m \u001b[0mException\u001b[0m \u001b[0;32mas\u001b[0m \u001b[0me\u001b[0m\u001b[0;34m:\u001b[0m  \u001b[0;31m# pylint: disable=broad-except\u001b[0m\u001b[0;34m\u001b[0m\u001b[0;34m\u001b[0m\u001b[0m\n\u001b[1;32m     66\u001b[0m       \u001b[0mfiltered_tb\u001b[0m \u001b[0;34m=\u001b[0m \u001b[0m_process_traceback_frames\u001b[0m\u001b[0;34m(\u001b[0m\u001b[0me\u001b[0m\u001b[0;34m.\u001b[0m\u001b[0m__traceback__\u001b[0m\u001b[0;34m)\u001b[0m\u001b[0;34m\u001b[0m\u001b[0;34m\u001b[0m\u001b[0m\n\u001b[0;32m---> 67\u001b[0;31m       \u001b[0;32mraise\u001b[0m \u001b[0me\u001b[0m\u001b[0;34m.\u001b[0m\u001b[0mwith_traceback\u001b[0m\u001b[0;34m(\u001b[0m\u001b[0mfiltered_tb\u001b[0m\u001b[0;34m)\u001b[0m \u001b[0;32mfrom\u001b[0m \u001b[0;32mNone\u001b[0m\u001b[0;34m\u001b[0m\u001b[0;34m\u001b[0m\u001b[0m\n\u001b[0m\u001b[1;32m     68\u001b[0m     \u001b[0;32mfinally\u001b[0m\u001b[0;34m:\u001b[0m\u001b[0;34m\u001b[0m\u001b[0;34m\u001b[0m\u001b[0m\n\u001b[1;32m     69\u001b[0m       \u001b[0;32mdel\u001b[0m \u001b[0mfiltered_tb\u001b[0m\u001b[0;34m\u001b[0m\u001b[0;34m\u001b[0m\u001b[0m\n",
      "\u001b[0;32m~/opt/anaconda3/lib/python3.9/site-packages/keras/engine/training.py\u001b[0m in \u001b[0;36mtf__predict_function\u001b[0;34m(iterator)\u001b[0m\n\u001b[1;32m     13\u001b[0m                 \u001b[0;32mtry\u001b[0m\u001b[0;34m:\u001b[0m\u001b[0;34m\u001b[0m\u001b[0;34m\u001b[0m\u001b[0m\n\u001b[1;32m     14\u001b[0m                     \u001b[0mdo_return\u001b[0m \u001b[0;34m=\u001b[0m \u001b[0;32mTrue\u001b[0m\u001b[0;34m\u001b[0m\u001b[0;34m\u001b[0m\u001b[0m\n\u001b[0;32m---> 15\u001b[0;31m                     \u001b[0mretval_\u001b[0m \u001b[0;34m=\u001b[0m \u001b[0mag__\u001b[0m\u001b[0;34m.\u001b[0m\u001b[0mconverted_call\u001b[0m\u001b[0;34m(\u001b[0m\u001b[0mag__\u001b[0m\u001b[0;34m.\u001b[0m\u001b[0mld\u001b[0m\u001b[0;34m(\u001b[0m\u001b[0mstep_function\u001b[0m\u001b[0;34m)\u001b[0m\u001b[0;34m,\u001b[0m \u001b[0;34m(\u001b[0m\u001b[0mag__\u001b[0m\u001b[0;34m.\u001b[0m\u001b[0mld\u001b[0m\u001b[0;34m(\u001b[0m\u001b[0mself\u001b[0m\u001b[0;34m)\u001b[0m\u001b[0;34m,\u001b[0m \u001b[0mag__\u001b[0m\u001b[0;34m.\u001b[0m\u001b[0mld\u001b[0m\u001b[0;34m(\u001b[0m\u001b[0miterator\u001b[0m\u001b[0;34m)\u001b[0m\u001b[0;34m)\u001b[0m\u001b[0;34m,\u001b[0m \u001b[0;32mNone\u001b[0m\u001b[0;34m,\u001b[0m \u001b[0mfscope\u001b[0m\u001b[0;34m)\u001b[0m\u001b[0;34m\u001b[0m\u001b[0;34m\u001b[0m\u001b[0m\n\u001b[0m\u001b[1;32m     16\u001b[0m                 \u001b[0;32mexcept\u001b[0m\u001b[0;34m:\u001b[0m\u001b[0;34m\u001b[0m\u001b[0;34m\u001b[0m\u001b[0m\n\u001b[1;32m     17\u001b[0m                     \u001b[0mdo_return\u001b[0m \u001b[0;34m=\u001b[0m \u001b[0;32mFalse\u001b[0m\u001b[0;34m\u001b[0m\u001b[0;34m\u001b[0m\u001b[0m\n",
      "\u001b[0;31mValueError\u001b[0m: in user code:\n\n    File \"/Users/janickbrunner/opt/anaconda3/lib/python3.9/site-packages/keras/engine/training.py\", line 1845, in predict_function  *\n        return step_function(self, iterator)\n    File \"/Users/janickbrunner/opt/anaconda3/lib/python3.9/site-packages/keras/engine/training.py\", line 1834, in step_function  **\n        outputs = model.distribute_strategy.run(run_step, args=(data,))\n    File \"/Users/janickbrunner/opt/anaconda3/lib/python3.9/site-packages/keras/engine/training.py\", line 1823, in run_step  **\n        outputs = model.predict_step(data)\n    File \"/Users/janickbrunner/opt/anaconda3/lib/python3.9/site-packages/keras/engine/training.py\", line 1791, in predict_step\n        return self(x, training=False)\n    File \"/Users/janickbrunner/opt/anaconda3/lib/python3.9/site-packages/keras/utils/traceback_utils.py\", line 67, in error_handler\n        raise e.with_traceback(filtered_tb) from None\n    File \"/Users/janickbrunner/opt/anaconda3/lib/python3.9/site-packages/keras/engine/input_spec.py\", line 264, in assert_input_compatibility\n        raise ValueError(f'Input {input_index} of layer \"{layer_name}\" is '\n\n    ValueError: Input 0 of layer \"model\" is incompatible with the layer: expected shape=(None, 224, 224, 3), found shape=(None, 244, 244, 3)\n"
     ]
    }
   ],
   "source": [
    "for ax in grid:\n",
    "    try:\n",
    "        image, label, prediction = get_random_image()\n",
    "        mask = get_explaination_as_mask(image, label)\n",
    "        masked_image = merge_image_with_mask(image, mask)\n",
    "        ax.imshow(masked_image)\n",
    "    except KeyError:ç\n",
    "        print('Model label, Lame label missmatch')\n",
    "\n",
    "plt.show()"
   ]
  },
  {
   "cell_type": "code",
   "execution_count": null,
   "id": "8ddd35fc-9293-4fee-9744-6ac4bcad8005",
   "metadata": {},
   "outputs": [],
   "source": []
  }
 ],
 "metadata": {
  "kernelspec": {
   "display_name": "Python 3 (ipykernel)",
   "language": "python",
   "name": "python3"
  },
  "language_info": {
   "codemirror_mode": {
    "name": "ipython",
    "version": 3
   },
   "file_extension": ".py",
   "mimetype": "text/x-python",
   "name": "python",
   "nbconvert_exporter": "python",
   "pygments_lexer": "ipython3",
   "version": "3.9.7"
  }
 },
 "nbformat": 4,
 "nbformat_minor": 5
}
